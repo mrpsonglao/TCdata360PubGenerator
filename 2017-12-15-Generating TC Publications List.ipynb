{
 "cells": [
  {
   "cell_type": "markdown",
   "metadata": {},
   "source": [
    "# Generate TC Publications List"
   ]
  },
  {
   "cell_type": "code",
   "execution_count": 110,
   "metadata": {
    "ExecuteTime": {
     "end_time": "2017-12-15T19:12:16.776560Z",
     "start_time": "2017-12-15T19:12:16.772547Z"
    },
    "collapsed": true
   },
   "outputs": [],
   "source": [
    "# import all Python libraries needed\n",
    "import pandas as pd\n",
    "import numpy as np\n",
    "import glob\n",
    "import datetime\n",
    "import xlrd\n",
    "import re"
   ]
  },
  {
   "cell_type": "markdown",
   "metadata": {},
   "source": [
    "We define the source file (downloaded from IFC intranet using Alberto's link). We make sure the source file is XLS (not XLSX) for the URL extraction code to work."
   ]
  },
  {
   "cell_type": "code",
   "execution_count": 173,
   "metadata": {
    "ExecuteTime": {
     "end_time": "2017-12-15T19:44:42.689061Z",
     "start_time": "2017-12-15T19:44:42.685069Z"
    },
    "collapsed": true
   },
   "outputs": [],
   "source": [
    "src_file = \"Copy of TC%20Related%20Publications%20from%20FY12_FY17_as%20of%20June%2020.xls\"\n",
    "map_file = 'TC_Publications-category_mapping.csv'\n",
    "cou_file = 'CountryClassification.csv'"
   ]
  },
  {
   "cell_type": "markdown",
   "metadata": {},
   "source": [
    "define custom function for list padding"
   ]
  },
  {
   "cell_type": "code",
   "execution_count": null,
   "metadata": {
    "collapsed": true
   },
   "outputs": [],
   "source": [
    "# define custom function for list padding\n",
    "def pad_list(cat, max_cat_length, fillvalue=np.nan):\n",
    "    return cat + [fillvalue] * (max_cat_length - len(cat))"
   ]
  },
  {
   "cell_type": "markdown",
   "metadata": {},
   "source": [
    "## Extract URLs from \"Title\" column"
   ]
  },
  {
   "cell_type": "code",
   "execution_count": 50,
   "metadata": {
    "ExecuteTime": {
     "end_time": "2017-12-15T18:30:46.662288Z",
     "start_time": "2017-12-15T18:30:46.595516Z"
    }
   },
   "outputs": [],
   "source": [
    "tc_pub_workbook = xlrd.open_workbook(src_file, formatting_info=True)\n",
    "tc_pub_sheet = tc_pub_workbook.sheet_by_index(0)\n",
    "\n",
    "url_list = {}\n",
    "for row in range(1, tc_pub_src.nrows):\n",
    "    rowValues = tc_pub_sheet.row_values(row, start_colx=0, end_colx=6)\n",
    "    link = tc_pub_sheet.hyperlink_map.get((row, 1))\n",
    "    url = np.nan if link is None else link.url_or_path\n",
    "    url_list[row] = url\n",
    "    \n",
    "df_url = pd.DataFrame.from_dict(url_list, orient='index')\n",
    "df_url.columns = ['URL']"
   ]
  },
  {
   "cell_type": "markdown",
   "metadata": {},
   "source": [
    "## Convert TC Publications sheet to Dataframe + Do preprocessing\n",
    "\n",
    "Processing code:\n",
    "- append merge extracted URL list with full publications metadata\n",
    "- clean up empty rows/columns (based on Title column)\n",
    "- clean up Abstract - replace \"\\r\\n\" with \";\", and \"• \" with \"\"\n",
    "- Date Published: convert to datetime format\n",
    "- map DatascopeTopic and DatascopeSubtopic based on Category\n",
    "- extract countries from publication title using \"Country Classification\" columns - Country, CountryShort"
   ]
  },
  {
   "cell_type": "code",
   "execution_count": 51,
   "metadata": {
    "ExecuteTime": {
     "end_time": "2017-12-15T18:30:47.503274Z",
     "start_time": "2017-12-15T18:30:47.454136Z"
    }
   },
   "outputs": [],
   "source": [
    "df_pub = pd.read_excel(src_file, sheet_name=\"TC Publications\")\n",
    "\n",
    "# merge extracted URL list with full publications metadata\n",
    "df_pub = df_pub.join(df_url)\n",
    "\n",
    "# clean up empty rows/columns (based on Title column)\n",
    "df_pub = df_pub[df_pub['Title'].notnull()]\n",
    "\n",
    "# clean up Abstract - replace \"\\r\\n\" with \";\", and \"• \" with \"\"\n",
    "df_pub['Abstract'] = df_pub['Abstract'].apply(lambda x: x.replace(r\"\\r\\n\", \";\").replace(\"• \", \"\"))\n",
    "\n",
    "# Date Published: convert to datetime format\n",
    "df_pub['Date Published'] = pd.to_datetime(df_pub['Date Published'], errors='ignore')"
   ]
  },
  {
   "cell_type": "markdown",
   "metadata": {},
   "source": [
    "### map DatascopeTopic and DatascopeSubtopic based on Category"
   ]
  },
  {
   "cell_type": "code",
   "execution_count": 197,
   "metadata": {
    "ExecuteTime": {
     "end_time": "2017-12-15T20:00:45.772738Z",
     "start_time": "2017-12-15T20:00:45.730040Z"
    }
   },
   "outputs": [],
   "source": [
    "# parse Category column\n",
    "cat_list = df_pub['Category'].apply(lambda topic_list: [topic.strip() for topic in topic_list.split(\"; \")])\n",
    "\n",
    "# get max length of category list\n",
    "max_cat_length = cat_list.apply(lambda x: len(x)).max()\n",
    "\n",
    "for topic_col in ['DatascopeTopic', 'DatascopeSubtopic']:\n",
    "\n",
    "    # get DatascopeTopic and DatascopeSubtopic mapping dictionaries based on Category\n",
    "    dict_topic = pd.read_csv(map_file)[['Category', topic_col]].set_index('Category').to_dict()[topic_col]\n",
    "    \n",
    "    # pad all category lists to max length\n",
    "    df_topic = pd.DataFrame(cat_list.apply(lambda topic_list: pad_list(topic_list, max_cat_length)).tolist())\n",
    "    \n",
    "    # map topic based on Category but if no match, put NA\n",
    "    for col in df_topic.columns:\n",
    "        df_topic[col] = df_topic[col].map(dict_topic)\n",
    "    \n",
    "    # combine all matches with semicolon separator and fill blanks with NaN\n",
    "    df_pub[topic_col] = df_topic.apply(lambda x: \"; \".join([val for val in x.tolist() if str(val) != 'nan']), axis=1).replace({\"\":np.nan})"
   ]
  },
  {
   "cell_type": "markdown",
   "metadata": {
    "ExecuteTime": {
     "end_time": "2017-12-15T19:42:53.745350Z",
     "start_time": "2017-12-15T19:42:53.707716Z"
    }
   },
   "source": [
    "## extract countries from publication title using \"Country Classification\" columns - Country, CountryShort"
   ]
  },
  {
   "cell_type": "code",
   "execution_count": 199,
   "metadata": {
    "ExecuteTime": {
     "end_time": "2017-12-15T20:00:52.626774Z",
     "start_time": "2017-12-15T20:00:52.606725Z"
    }
   },
   "outputs": [],
   "source": [
    "# load country search query\n",
    "df_cou = pd.read_csv(cou_file, encoding='latin-1')[['CountryShort','Country']]\n",
    "cou_list = df_cou['CountryShort'].tolist()\n",
    "\n",
    "# search for country search query in Title column\n",
    "cou_list_series = df_pub['Title'].apply(lambda text: list(set(cou for cou in cou_list if cou in text)))\n",
    "\n",
    "# get max length of country list\n",
    "max_cou_length = cou_list_series.apply(lambda x: len(x)).max()\n",
    "\n",
    "# load country name mapping to search query\n",
    "cou_dict = df_cou.set_index('CountryShort').to_dict()['Country']"
   ]
  },
  {
   "cell_type": "code",
   "execution_count": 204,
   "metadata": {
    "ExecuteTime": {
     "end_time": "2017-12-15T20:03:49.429472Z",
     "start_time": "2017-12-15T20:03:49.411441Z"
    }
   },
   "outputs": [],
   "source": [
    "# pad all country lists to max length\n",
    "df_cou_searches = pd.DataFrame(cou_list_series.apply(lambda topic_list: pad_list(topic_list, max_cou_length)).tolist())\n",
    "\n",
    "# map country based on country search query but if no match, put NA\n",
    "for col in df_cou_searches.columns:\n",
    "    df_cou_searches[col] = df_cou_searches[col].map(cou_dict)\n",
    "\n",
    "# combine all matches with semicolon separator and fill blanks with NaN\n",
    "df_pub['country'] = df_cou_searches.apply(lambda x: \"; \".join([val for val in x.tolist() if str(val) != 'nan']), axis=1).replace({\"\":np.nan})"
   ]
  },
  {
   "cell_type": "code",
   "execution_count": 206,
   "metadata": {
    "ExecuteTime": {
     "end_time": "2017-12-15T20:04:37.790520Z",
     "start_time": "2017-12-15T20:04:37.766950Z"
    }
   },
   "outputs": [],
   "source": [
    "df_pub.to_csv(\"Datascope_TnC_Publications.csv\")"
   ]
  }
 ],
 "metadata": {
  "kernelspec": {
   "display_name": "Python 3",
   "language": "python",
   "name": "python3"
  },
  "language_info": {
   "codemirror_mode": {
    "name": "ipython",
    "version": 3
   },
   "file_extension": ".py",
   "mimetype": "text/x-python",
   "name": "python",
   "nbconvert_exporter": "python",
   "pygments_lexer": "ipython3",
   "version": "3.6.1"
  },
  "toc": {
   "colors": {
    "hover_highlight": "#DAA520",
    "navigate_num": "#000000",
    "navigate_text": "#333333",
    "running_highlight": "#FF0000",
    "selected_highlight": "#FFD700",
    "sidebar_border": "#EEEEEE",
    "wrapper_background": "#FFFFFF"
   },
   "moveMenuLeft": true,
   "nav_menu": {
    "height": "12px",
    "width": "252px"
   },
   "navigate_menu": true,
   "number_sections": true,
   "sideBar": true,
   "threshold": 4,
   "toc_cell": false,
   "toc_section_display": "block",
   "toc_window_display": false,
   "widenNotebook": false
  }
 },
 "nbformat": 4,
 "nbformat_minor": 2
}
